{
 "cells": [
  {
   "cell_type": "code",
   "execution_count": null,
   "id": "coastal-capture",
   "metadata": {},
   "outputs": [],
   "source": []
  },
  {
   "cell_type": "code",
   "execution_count": null,
   "id": "adequate-transparency",
   "metadata": {},
   "outputs": [],
   "source": []
  },
  {
   "cell_type": "code",
   "execution_count": null,
   "id": "diverse-broadcast",
   "metadata": {},
   "outputs": [],
   "source": []
  },
  {
   "cell_type": "code",
   "execution_count": 24,
   "id": "organic-wright",
   "metadata": {},
   "outputs": [
    {
     "data": {
      "image/png": "[encoded data removed]",
      "text/plain": [
       "<Figure size 432x288 with 1 Axes>"
      ]
     },
     "metadata": {
      "needs_background": "light"
     },
     "output_type": "display_data"
    }
   ],
   "source": [
    "import pandas\n",
    "import matplotlib.pyplot as plt\n",
    "dataset = pandas.read_csv('Covid19Data/Alger.csv', usecols=[1], engine='python')\n",
    "plt.plot(dataset)\n",
    "plt.show()"
   ]
  },
  {
   "cell_type": "code",
   "execution_count": 25,
   "id": "juvenile-director",
   "metadata": {},
   "outputs": [],
   "source": [
    "import numpy\n",
    "import matplotlib.pyplot as plt\n",
    "import pandas\n",
    "import math\n",
    "from keras.models import Sequential\n",
    "from keras.layers import Dense\n",
    "from keras.layers import LSTM\n",
    "from sklearn.preprocessing import MinMaxScaler\n",
    "from sklearn.metrics import mean_squared_error"
   ]
  },
  {
   "cell_type": "code",
   "execution_count": 26,
   "id": "instrumental-aquarium",
   "metadata": {},
   "outputs": [],
   "source": [
    "dataframe = pandas.read_csv('Covid19Data/Alger.csv', usecols=[1], engine='python')\n",
    "dataset = dataframe.values\n",
    "dataset = dataset.astype('float32')"
   ]
  },
  {
   "cell_type": "code",
   "execution_count": 27,
   "id": "round-bibliography",
   "metadata": {},
   "outputs": [],
   "source": [
    "scaler = MinMaxScaler(feature_range=(0, 1))\n",
    "dataset = scaler.fit_transform(dataset)"
   ]
  },
  {
   "cell_type": "code",
   "execution_count": 28,
   "id": "skilled-mitchell",
   "metadata": {},
   "outputs": [
    {
     "name": "stdout",
     "output_type": "stream",
     "text": [
      "181 90\n"
     ]
    }
   ],
   "source": [
    "train_size = int(len(dataset) * 0.67)\n",
    "test_size = len(dataset) - train_size\n",
    "train, test = dataset[0:train_size,:], dataset[train_size:len(dataset),:]\n",
    "print(len(train), len(test))"
   ]
  },
  {
   "cell_type": "code",
   "execution_count": 29,
   "id": "reverse-african",
   "metadata": {},
   "outputs": [],
   "source": [
    "def create_dataset(dataset, look_back=1):\n",
    "    dataX, dataY = [], []\n",
    "    for i in range(len(dataset)-look_back-1):\n",
    "        a = dataset[i:(i+look_back), 0]\n",
    "        dataX.append(a)\n",
    "        dataY.append(dataset[i + look_back, 0])\n",
    "    return numpy.array(dataX), numpy.array(dataY)"
   ]
  },
  {
   "cell_type": "code",
   "execution_count": 30,
   "id": "sixth-stanford",
   "metadata": {},
   "outputs": [],
   "source": [
    "look_back = 1\n",
    "trainX, trainY = create_dataset(train, look_back)\n",
    "testX, testY = create_dataset(test, look_back)"
   ]
  },
  {
   "cell_type": "code",
   "execution_count": 31,
   "id": "electoral-council",
   "metadata": {},
   "outputs": [],
   "source": [
    "trainX = numpy.reshape(trainX, (trainX.shape[0], 1, trainX.shape[1]))\n",
    "testX = numpy.reshape(testX, (testX.shape[0], 1, testX.shape[1]))\n"
   ]
  },
  {
   "cell_type": "code",
   "execution_count": 32,
   "id": "minute-sudan",
   "metadata": {
    "scrolled": false
   },
   "outputs": [
    {
     "name": "stdout",
     "output_type": "stream",
     "text": [
      "Epoch 1/100\n",
      "179/179 - 1s - loss: 0.1424\n",
      "Epoch 2/100\n",
      "179/179 - 0s - loss: 0.0525\n",
      "Epoch 3/100\n",
      "179/179 - 0s - loss: 0.0327\n",
      "Epoch 4/100\n",
      "179/179 - 0s - loss: 0.0200\n",
      "Epoch 5/100\n",
      "179/179 - 0s - loss: 0.0101\n",
      "Epoch 6/100\n",
      "179/179 - 0s - loss: 0.0039\n",
      "Epoch 7/100\n",
      "179/179 - 0s - loss: 0.0011\n",
      "Epoch 8/100\n",
      "179/179 - 0s - loss: 2.6297e-04\n",
      "Epoch 9/100\n",
      "179/179 - 0s - loss: 7.4177e-05\n",
      "Epoch 10/100\n",
      "179/179 - 0s - loss: 4.6208e-05\n",
      "Epoch 11/100\n",
      "179/179 - 0s - loss: 4.2900e-05\n",
      "Epoch 12/100\n",
      "179/179 - 0s - loss: 4.2425e-05\n",
      "Epoch 13/100\n",
      "179/179 - 0s - loss: 4.1565e-05\n",
      "Epoch 14/100\n",
      "179/179 - 0s - loss: 4.1566e-05\n",
      "Epoch 15/100\n",
      "179/179 - 0s - loss: 4.0932e-05\n",
      "Epoch 16/100\n",
      "179/179 - 0s - loss: 4.0787e-05\n",
      "Epoch 17/100\n",
      "179/179 - 0s - loss: 3.8445e-05\n",
      "Epoch 18/100\n",
      "179/179 - 0s - loss: 4.0141e-05\n",
      "Epoch 19/100\n",
      "179/179 - 0s - loss: 3.8942e-05\n",
      "Epoch 20/100\n",
      "179/179 - 0s - loss: 3.9010e-05\n",
      "Epoch 21/100\n",
      "179/179 - 0s - loss: 3.8560e-05\n",
      "Epoch 22/100\n",
      "179/179 - 0s - loss: 3.7944e-05\n",
      "Epoch 23/100\n",
      "179/179 - 0s - loss: 4.1156e-05\n",
      "Epoch 24/100\n",
      "179/179 - 0s - loss: 3.7295e-05\n",
      "Epoch 25/100\n",
      "179/179 - 0s - loss: 3.7603e-05\n",
      "Epoch 26/100\n",
      "179/179 - 0s - loss: 3.7526e-05\n",
      "Epoch 27/100\n",
      "179/179 - 0s - loss: 3.7997e-05\n",
      "Epoch 28/100\n",
      "179/179 - 0s - loss: 3.9466e-05\n",
      "Epoch 29/100\n",
      "179/179 - 0s - loss: 3.8124e-05\n",
      "Epoch 30/100\n",
      "179/179 - 0s - loss: 3.6336e-05\n",
      "Epoch 31/100\n",
      "179/179 - 0s - loss: 3.7064e-05\n",
      "Epoch 32/100\n",
      "179/179 - 0s - loss: 4.0636e-05\n",
      "Epoch 33/100\n",
      "179/179 - 0s - loss: 3.5336e-05\n",
      "Epoch 34/100\n",
      "179/179 - 0s - loss: 4.2575e-05\n",
      "Epoch 35/100\n",
      "179/179 - 0s - loss: 4.0213e-05\n",
      "Epoch 36/100\n",
      "179/179 - 0s - loss: 4.2444e-05\n",
      "Epoch 37/100\n",
      "179/179 - 0s - loss: 4.0115e-05\n",
      "Epoch 38/100\n",
      "179/179 - 0s - loss: 3.8695e-05\n",
      "Epoch 39/100\n",
      "179/179 - 0s - loss: 4.2168e-05\n",
      "Epoch 40/100\n",
      "179/179 - 0s - loss: 3.9911e-05\n",
      "Epoch 41/100\n",
      "179/179 - 0s - loss: 3.7325e-05\n",
      "Epoch 42/100\n",
      "179/179 - 0s - loss: 3.9423e-05\n",
      "Epoch 43/100\n",
      "179/179 - 0s - loss: 3.7419e-05\n",
      "Epoch 44/100\n",
      "179/179 - 0s - loss: 4.2647e-05\n",
      "Epoch 45/100\n",
      "179/179 - 0s - loss: 4.9725e-05\n",
      "Epoch 46/100\n",
      "179/179 - 0s - loss: 3.9975e-05\n",
      "Epoch 47/100\n",
      "179/179 - 0s - loss: 4.4876e-05\n",
      "Epoch 48/100\n",
      "179/179 - 0s - loss: 4.6742e-05\n",
      "Epoch 49/100\n",
      "179/179 - 0s - loss: 3.6279e-05\n",
      "Epoch 50/100\n",
      "179/179 - 0s - loss: 3.6394e-05\n",
      "Epoch 51/100\n",
      "179/179 - 0s - loss: 4.1237e-05\n",
      "Epoch 52/100\n",
      "179/179 - 0s - loss: 4.4741e-05\n",
      "Epoch 53/100\n",
      "179/179 - 0s - loss: 3.8969e-05\n",
      "Epoch 54/100\n",
      "179/179 - 0s - loss: 4.3928e-05\n",
      "Epoch 55/100\n",
      "179/179 - 0s - loss: 3.9208e-05\n",
      "Epoch 56/100\n",
      "179/179 - 0s - loss: 4.5675e-05\n",
      "Epoch 57/100\n",
      "179/179 - 0s - loss: 4.1991e-05\n",
      "Epoch 58/100\n",
      "179/179 - 0s - loss: 3.7557e-05\n",
      "Epoch 59/100\n",
      "179/179 - 0s - loss: 4.1004e-05\n",
      "Epoch 60/100\n",
      "179/179 - 0s - loss: 4.0097e-05\n",
      "Epoch 61/100\n",
      "179/179 - 0s - loss: 4.3844e-05\n",
      "Epoch 62/100\n",
      "179/179 - 0s - loss: 3.7664e-05\n",
      "Epoch 63/100\n",
      "179/179 - 0s - loss: 5.1398e-05\n",
      "Epoch 64/100\n",
      "179/179 - 0s - loss: 4.3406e-05\n",
      "Epoch 65/100\n",
      "179/179 - 0s - loss: 4.1577e-05\n",
      "Epoch 66/100\n",
      "179/179 - 0s - loss: 4.4355e-05\n",
      "Epoch 67/100\n",
      "179/179 - 0s - loss: 3.7555e-05\n",
      "Epoch 68/100\n",
      "179/179 - 0s - loss: 4.6867e-05\n",
      "Epoch 69/100\n",
      "179/179 - 0s - loss: 3.9793e-05\n",
      "Epoch 70/100\n",
      "179/179 - 0s - loss: 3.4409e-05\n",
      "Epoch 71/100\n",
      "179/179 - 0s - loss: 4.3426e-05\n",
      "Epoch 72/100\n",
      "179/179 - 0s - loss: 3.7188e-05\n",
      "Epoch 73/100\n",
      "179/179 - 0s - loss: 4.0392e-05\n",
      "Epoch 74/100\n",
      "179/179 - 0s - loss: 3.5723e-05\n",
      "Epoch 75/100\n",
      "179/179 - 0s - loss: 3.9931e-05\n",
      "Epoch 76/100\n",
      "179/179 - 0s - loss: 3.7292e-05\n",
      "Epoch 77/100\n",
      "179/179 - 0s - loss: 4.0632e-05\n",
      "Epoch 78/100\n",
      "179/179 - 0s - loss: 3.8722e-05\n",
      "Epoch 79/100\n",
      "179/179 - 0s - loss: 3.7268e-05\n",
      "Epoch 80/100\n",
      "179/179 - 0s - loss: 3.6912e-05\n",
      "Epoch 81/100\n",
      "179/179 - 0s - loss: 3.6354e-05\n",
      "Epoch 82/100\n",
      "179/179 - 0s - loss: 4.5955e-05\n",
      "Epoch 83/100\n",
      "179/179 - 0s - loss: 3.9895e-05\n",
      "Epoch 84/100\n",
      "179/179 - 0s - loss: 4.1298e-05\n",
      "Epoch 85/100\n",
      "179/179 - 0s - loss: 4.2059e-05\n",
      "Epoch 86/100\n",
      "179/179 - 0s - loss: 3.7870e-05\n",
      "Epoch 87/100\n",
      "179/179 - 0s - loss: 3.4690e-05\n",
      "Epoch 88/100\n",
      "179/179 - 0s - loss: 4.1539e-05\n",
      "Epoch 89/100\n",
      "179/179 - 0s - loss: 3.9904e-05\n",
      "Epoch 90/100\n",
      "179/179 - 0s - loss: 3.8282e-05\n",
      "Epoch 91/100\n",
      "179/179 - 0s - loss: 3.8651e-05\n",
      "Epoch 92/100\n",
      "179/179 - 0s - loss: 4.1152e-05\n",
      "Epoch 93/100\n",
      "179/179 - 0s - loss: 3.9338e-05\n",
      "Epoch 94/100\n",
      "179/179 - 0s - loss: 3.1535e-05\n",
      "Epoch 95/100\n",
      "179/179 - 0s - loss: 4.5462e-05\n",
      "Epoch 96/100\n",
      "179/179 - 0s - loss: 3.4403e-05\n",
      "Epoch 97/100\n",
      "179/179 - 0s - loss: 3.5211e-05\n",
      "Epoch 98/100\n",
      "179/179 - 0s - loss: 3.7949e-05\n",
      "Epoch 99/100\n",
      "179/179 - 0s - loss: 3.9760e-05\n",
      "Epoch 100/100\n",
      "179/179 - 0s - loss: 3.9137e-05\n"
     ]
    },
    {
     "data": {
      "text/plain": [
       "<tensorflow.python.keras.callbacks.History at 0x7f9a88237ee0>"
      ]
     },
     "execution_count": 32,
     "metadata": {},
     "output_type": "execute_result"
    }
   ],
   "source": [
    "\n",
    "model = Sequential()\n",
    "model.add(LSTM(4, input_shape=(1, look_back)))\n",
    "model.add(Dense(1))\n",
    "model.compile(loss='mean_squared_error', optimizer='adam')\n",
    "model.fit(trainX, trainY, epochs=100, batch_size=1, verbose=2)"
   ]
  },
  {
   "cell_type": "code",
   "execution_count": 33,
   "id": "stuck-sharp",
   "metadata": {},
   "outputs": [
    {
     "name": "stdout",
     "output_type": "stream",
     "text": [
      "Train Score: 31.95 RMSE\n",
      "Test Score: 35.29 RMSE\n"
     ]
    }
   ],
   "source": [
    "trainPredict = model.predict(trainX)\n",
    "testPredict = model.predict(testX)\n",
    "trainPredict = scaler.inverse_transform(trainPredict)\n",
    "trainY = scaler.inverse_transform([trainY])\n",
    "testPredict = scaler.inverse_transform(testPredict)\n",
    "testY = scaler.inverse_transform([testY])\n",
    "trainScore = math.sqrt(mean_squared_error(trainY[0], trainPredict[:,0]))\n",
    "print('Train Score: %.2f RMSE' % (trainScore))\n",
    "testScore = math.sqrt(mean_squared_error(testY[0], testPredict[:,0]))\n",
    "print('Test Score: %.2f RMSE' % (testScore))"
   ]
  },
  {
   "cell_type": "code",
   "execution_count": 34,
   "id": "equivalent-medline",
   "metadata": {},
   "outputs": [
    {
     "data": {
      "image/png": "[encoded data removed]",
      "text/plain": [
       "<Figure size 432x288 with 1 Axes>"
      ]
     },
     "metadata": {
      "needs_background": "light"
     },
     "output_type": "display_data"
    }
   ],
   "source": [
    "trainPredictPlot = numpy.empty_like(dataset)\n",
    "trainPredictPlot[:, :] = numpy.nan\n",
    "trainPredictPlot[look_back:len(trainPredict)+look_back, :] = trainPredict\n",
    "testPredictPlot = numpy.empty_like(dataset)\n",
    "testPredictPlot[:, :] = numpy.nan\n",
    "testPredictPlot[len(trainPredict)+(look_back*2)+1:len(dataset)-1, :] = testPredict\n",
    "plt.plot(scaler.inverse_transform(dataset))\n",
    "plt.plot(trainPredictPlot)\n",
    "plt.plot(testPredictPlot)\n",
    "plt.show()\n"
   ]
  },
  {
   "cell_type": "code",
   "execution_count": null,
   "id": "extreme-teacher",
   "metadata": {},
   "outputs": [],
   "source": []
  },
  {
   "cell_type": "code",
   "execution_count": null,
   "id": "thrown-blink",
   "metadata": {},
   "outputs": [],
   "source": []
  }
 ],
 "metadata": {
  "kernelspec": {
   "display_name": "Python 3",
   "language": "python",
   "name": "python3"
  },
  "language_info": {
   "codemirror_mode": {
    "name": "ipython",
    "version": 3
   },
   "file_extension": ".py",
   "mimetype": "text/x-python",
   "name": "python",
   "nbconvert_exporter": "python",
   "pygments_lexer": "ipython3",
   "version": "3.8.6"
  }
 },
 "nbformat": 4,
 "nbformat_minor": 5
}
