{
 "cells": [
  {
   "cell_type": "code",
   "execution_count": null,
   "id": "coastal-capture",
   "metadata": {},
   "outputs": [],
   "source": []
  },
  {
   "cell_type": "code",
   "execution_count": null,
   "id": "adequate-transparency",
   "metadata": {},
   "outputs": [],
   "source": []
  },
  {
   "cell_type": "code",
   "execution_count": null,
   "id": "diverse-broadcast",
   "metadata": {},
   "outputs": [],
   "source": []
  },
  {
   "cell_type": "code",
   "execution_count": 3,
   "id": "organic-wright",
   "metadata": {},
   "outputs": [
    {
     "data": {
      "image/png": "[encoded data removed]",
      "text/plain": [
       "<Figure size 432x288 with 1 Axes>"
      ]
     },
     "metadata": {
      "needs_background": "light"
     },
     "output_type": "display_data"
    }
   ],
   "source": [
    "import pandas\n",
    "import matplotlib.pyplot as plt\n",
    "dataset = pandas.read_csv('Covid19Data/Oran.csv', usecols=[1], engine='python')\n",
    "plt.plot(dataset)\n",
    "plt.show()"
   ]
  },
  {
   "cell_type": "code",
   "execution_count": 2,
   "id": "juvenile-director",
   "metadata": {},
   "outputs": [],
   "source": [
    "import numpy\n",
    "import matplotlib.pyplot as plt\n",
    "import pandas\n",
    "import math\n",
    "from keras.models import Sequential\n",
    "from keras.layers import Dense\n",
    "from keras.layers import LSTM\n",
    "from sklearn.preprocessing import MinMaxScaler\n",
    "from sklearn.metrics import mean_squared_error"
   ]
  },
  {
   "cell_type": "code",
   "execution_count": 4,
   "id": "instrumental-aquarium",
   "metadata": {},
   "outputs": [],
   "source": [
    "dataframe = pandas.read_csv('Covid19Data/Oran.csv', usecols=[1], engine='python')\n",
    "dataset = dataframe.values\n",
    "dataset = dataset.astype('float32')"
   ]
  },
  {
   "cell_type": "code",
   "execution_count": 5,
   "id": "round-bibliography",
   "metadata": {},
   "outputs": [],
   "source": [
    "scaler = MinMaxScaler(feature_range=(0, 1))\n",
    "dataset = scaler.fit_transform(dataset)"
   ]
  },
  {
   "cell_type": "code",
   "execution_count": 6,
   "id": "skilled-mitchell",
   "metadata": {},
   "outputs": [
    {
     "name": "stdout",
     "output_type": "stream",
     "text": [
      "181 90\n"
     ]
    }
   ],
   "source": [
    "train_size = int(len(dataset) * 0.67)\n",
    "test_size = len(dataset) - train_size\n",
    "train, test = dataset[0:train_size,:], dataset[train_size:len(dataset),:]\n",
    "print(len(train), len(test))"
   ]
  },
  {
   "cell_type": "code",
   "execution_count": 7,
   "id": "reverse-african",
   "metadata": {},
   "outputs": [],
   "source": [
    "def create_dataset(dataset, look_back=1):\n",
    "    dataX, dataY = [], []\n",
    "    for i in range(len(dataset)-look_back-1):\n",
    "        a = dataset[i:(i+look_back), 0]\n",
    "        dataX.append(a)\n",
    "        dataY.append(dataset[i + look_back, 0])\n",
    "    return numpy.array(dataX), numpy.array(dataY)"
   ]
  },
  {
   "cell_type": "code",
   "execution_count": 8,
   "id": "sixth-stanford",
   "metadata": {},
   "outputs": [],
   "source": [
    "look_back = 1\n",
    "trainX, trainY = create_dataset(train, look_back)\n",
    "testX, testY = create_dataset(test, look_back)"
   ]
  },
  {
   "cell_type": "code",
   "execution_count": 9,
   "id": "electoral-council",
   "metadata": {},
   "outputs": [],
   "source": [
    "trainX = numpy.reshape(trainX, (trainX.shape[0], 1, trainX.shape[1]))\n",
    "testX = numpy.reshape(testX, (testX.shape[0], 1, testX.shape[1]))\n"
   ]
  },
  {
   "cell_type": "code",
   "execution_count": 10,
   "id": "minute-sudan",
   "metadata": {
    "scrolled": true
   },
   "outputs": [
    {
     "name": "stdout",
     "output_type": "stream",
     "text": [
      "Epoch 1/100\n",
      "179/179 - 3s - loss: 0.1145\n",
      "Epoch 2/100\n",
      "179/179 - 0s - loss: 0.0341\n",
      "Epoch 3/100\n",
      "179/179 - 0s - loss: 0.0185\n",
      "Epoch 4/100\n",
      "179/179 - 0s - loss: 0.0090\n",
      "Epoch 5/100\n",
      "179/179 - 0s - loss: 0.0032\n",
      "Epoch 6/100\n",
      "179/179 - 0s - loss: 8.7306e-04\n",
      "Epoch 7/100\n",
      "179/179 - 0s - loss: 1.9427e-04\n",
      "Epoch 8/100\n",
      "179/179 - 0s - loss: 6.6494e-05\n",
      "Epoch 9/100\n",
      "179/179 - 0s - loss: 4.9788e-05\n",
      "Epoch 10/100\n",
      "179/179 - 0s - loss: 4.7538e-05\n",
      "Epoch 11/100\n",
      "179/179 - 0s - loss: 4.7424e-05\n",
      "Epoch 12/100\n",
      "179/179 - 0s - loss: 4.5700e-05\n",
      "Epoch 13/100\n",
      "179/179 - 0s - loss: 4.4871e-05\n",
      "Epoch 14/100\n",
      "179/179 - 0s - loss: 4.4132e-05\n",
      "Epoch 15/100\n",
      "179/179 - 0s - loss: 4.2741e-05\n",
      "Epoch 16/100\n",
      "179/179 - 0s - loss: 4.2747e-05\n",
      "Epoch 17/100\n",
      "179/179 - 0s - loss: 4.1720e-05\n",
      "Epoch 18/100\n",
      "179/179 - 0s - loss: 4.1048e-05\n",
      "Epoch 19/100\n",
      "179/179 - 0s - loss: 3.8389e-05\n",
      "Epoch 20/100\n",
      "179/179 - 0s - loss: 3.8911e-05\n",
      "Epoch 21/100\n",
      "179/179 - 0s - loss: 3.8307e-05\n",
      "Epoch 22/100\n",
      "179/179 - 0s - loss: 3.7241e-05\n",
      "Epoch 23/100\n",
      "179/179 - 0s - loss: 3.5428e-05\n",
      "Epoch 24/100\n",
      "179/179 - 0s - loss: 3.4673e-05\n",
      "Epoch 25/100\n",
      "179/179 - 0s - loss: 3.7767e-05\n",
      "Epoch 26/100\n",
      "179/179 - 1s - loss: 3.5882e-05\n",
      "Epoch 27/100\n",
      "179/179 - 0s - loss: 3.2035e-05\n",
      "Epoch 28/100\n",
      "179/179 - 0s - loss: 3.6490e-05\n",
      "Epoch 29/100\n",
      "179/179 - 0s - loss: 3.2038e-05\n",
      "Epoch 30/100\n",
      "179/179 - 0s - loss: 3.4979e-05\n",
      "Epoch 31/100\n",
      "179/179 - 0s - loss: 3.4061e-05\n",
      "Epoch 32/100\n",
      "179/179 - 0s - loss: 3.2572e-05\n",
      "Epoch 33/100\n",
      "179/179 - 0s - loss: 3.5174e-05\n",
      "Epoch 34/100\n",
      "179/179 - 0s - loss: 3.2491e-05\n",
      "Epoch 35/100\n",
      "179/179 - 0s - loss: 3.4366e-05\n",
      "Epoch 36/100\n",
      "179/179 - 0s - loss: 3.8850e-05\n",
      "Epoch 37/100\n",
      "179/179 - 0s - loss: 3.2280e-05\n",
      "Epoch 38/100\n",
      "179/179 - 0s - loss: 3.6346e-05\n",
      "Epoch 39/100\n",
      "179/179 - 0s - loss: 3.3956e-05\n",
      "Epoch 40/100\n",
      "179/179 - 0s - loss: 3.6725e-05\n",
      "Epoch 41/100\n",
      "179/179 - 0s - loss: 4.0350e-05\n",
      "Epoch 42/100\n",
      "179/179 - 0s - loss: 3.6956e-05\n",
      "Epoch 43/100\n",
      "179/179 - 0s - loss: 3.2040e-05\n",
      "Epoch 44/100\n",
      "179/179 - 0s - loss: 4.1695e-05\n",
      "Epoch 45/100\n",
      "179/179 - 0s - loss: 3.3107e-05\n",
      "Epoch 46/100\n",
      "179/179 - 0s - loss: 3.6839e-05\n",
      "Epoch 47/100\n",
      "179/179 - 0s - loss: 3.7637e-05\n",
      "Epoch 48/100\n",
      "179/179 - 0s - loss: 3.4115e-05\n",
      "Epoch 49/100\n",
      "179/179 - 0s - loss: 3.5363e-05\n",
      "Epoch 50/100\n",
      "179/179 - 0s - loss: 3.7205e-05\n",
      "Epoch 51/100\n",
      "179/179 - 0s - loss: 3.4553e-05\n",
      "Epoch 52/100\n",
      "179/179 - 0s - loss: 3.8196e-05\n",
      "Epoch 53/100\n",
      "179/179 - 0s - loss: 3.6635e-05\n",
      "Epoch 54/100\n",
      "179/179 - 0s - loss: 3.5836e-05\n",
      "Epoch 55/100\n",
      "179/179 - 0s - loss: 3.5842e-05\n",
      "Epoch 56/100\n",
      "179/179 - 0s - loss: 3.5665e-05\n",
      "Epoch 57/100\n",
      "179/179 - 0s - loss: 3.8554e-05\n",
      "Epoch 58/100\n",
      "179/179 - 0s - loss: 3.9057e-05\n",
      "Epoch 59/100\n",
      "179/179 - 0s - loss: 3.5720e-05\n",
      "Epoch 60/100\n",
      "179/179 - 0s - loss: 3.2907e-05\n",
      "Epoch 61/100\n",
      "179/179 - 0s - loss: 3.4965e-05\n",
      "Epoch 62/100\n",
      "179/179 - 0s - loss: 3.3293e-05\n",
      "Epoch 63/100\n",
      "179/179 - 0s - loss: 4.0112e-05\n",
      "Epoch 64/100\n",
      "179/179 - 0s - loss: 3.6410e-05\n",
      "Epoch 65/100\n",
      "179/179 - 0s - loss: 4.1774e-05\n",
      "Epoch 66/100\n",
      "179/179 - 0s - loss: 3.1832e-05\n",
      "Epoch 67/100\n",
      "179/179 - 0s - loss: 3.4151e-05\n",
      "Epoch 68/100\n",
      "179/179 - 0s - loss: 3.4908e-05\n",
      "Epoch 69/100\n",
      "179/179 - 0s - loss: 3.9642e-05\n",
      "Epoch 70/100\n",
      "179/179 - 0s - loss: 3.6273e-05\n",
      "Epoch 71/100\n",
      "179/179 - 0s - loss: 4.3812e-05\n",
      "Epoch 72/100\n",
      "179/179 - 0s - loss: 3.7561e-05\n",
      "Epoch 73/100\n",
      "179/179 - 0s - loss: 2.9866e-05\n",
      "Epoch 74/100\n",
      "179/179 - 0s - loss: 3.3778e-05\n",
      "Epoch 75/100\n",
      "179/179 - 0s - loss: 2.7513e-05\n",
      "Epoch 76/100\n",
      "179/179 - 0s - loss: 3.7612e-05\n",
      "Epoch 77/100\n",
      "179/179 - 0s - loss: 3.4343e-05\n",
      "Epoch 78/100\n",
      "179/179 - 0s - loss: 3.6598e-05\n",
      "Epoch 79/100\n",
      "179/179 - 0s - loss: 3.3024e-05\n",
      "Epoch 80/100\n",
      "179/179 - 0s - loss: 3.0717e-05\n",
      "Epoch 81/100\n",
      "179/179 - 0s - loss: 3.7469e-05\n",
      "Epoch 82/100\n",
      "179/179 - 0s - loss: 3.8936e-05\n",
      "Epoch 83/100\n",
      "179/179 - 0s - loss: 3.5350e-05\n",
      "Epoch 84/100\n",
      "179/179 - 0s - loss: 3.7848e-05\n",
      "Epoch 85/100\n",
      "179/179 - 0s - loss: 3.5071e-05\n",
      "Epoch 86/100\n",
      "179/179 - 0s - loss: 3.4657e-05\n",
      "Epoch 87/100\n",
      "179/179 - 0s - loss: 3.5495e-05\n",
      "Epoch 88/100\n",
      "179/179 - 0s - loss: 3.4079e-05\n",
      "Epoch 89/100\n",
      "179/179 - 0s - loss: 3.8575e-05\n",
      "Epoch 90/100\n",
      "179/179 - 0s - loss: 3.2625e-05\n",
      "Epoch 91/100\n",
      "179/179 - 0s - loss: 3.4833e-05\n",
      "Epoch 92/100\n",
      "179/179 - 0s - loss: 3.4981e-05\n",
      "Epoch 93/100\n",
      "179/179 - 0s - loss: 4.8495e-05\n",
      "Epoch 94/100\n",
      "179/179 - 0s - loss: 3.1617e-05\n",
      "Epoch 95/100\n",
      "179/179 - 0s - loss: 3.4801e-05\n",
      "Epoch 96/100\n",
      "179/179 - 0s - loss: 3.6932e-05\n",
      "Epoch 97/100\n",
      "179/179 - 0s - loss: 3.1721e-05\n",
      "Epoch 98/100\n",
      "179/179 - 0s - loss: 3.4718e-05\n",
      "Epoch 99/100\n",
      "179/179 - 0s - loss: 3.2204e-05\n",
      "Epoch 100/100\n",
      "179/179 - 0s - loss: 3.5189e-05\n"
     ]
    },
    {
     "data": {
      "text/plain": [
       "<tensorflow.python.keras.callbacks.History at 0x7f5cfef3dca0>"
      ]
     },
     "execution_count": 10,
     "metadata": {},
     "output_type": "execute_result"
    }
   ],
   "source": [
    "\n",
    "model = Sequential()\n",
    "model.add(LSTM(4, input_shape=(1, look_back)))\n",
    "model.add(Dense(1))\n",
    "model.compile(loss='mean_squared_error', optimizer='adam')\n",
    "model.fit(trainX, trainY, epochs=100, batch_size=1, verbose=2)"
   ]
  },
  {
   "cell_type": "code",
   "execution_count": 11,
   "id": "stuck-sharp",
   "metadata": {},
   "outputs": [
    {
     "name": "stdout",
     "output_type": "stream",
     "text": [
      "Train Score: 25.41 RMSE\n",
      "Test Score: 0.37 RMSE\n"
     ]
    }
   ],
   "source": [
    "trainPredict = model.predict(trainX)\n",
    "testPredict = model.predict(testX)\n",
    "trainPredict = scaler.inverse_transform(trainPredict)\n",
    "trainY = scaler.inverse_transform([trainY])\n",
    "testPredict = scaler.inverse_transform(testPredict)\n",
    "testY = scaler.inverse_transform([testY])\n",
    "trainScore = math.sqrt(mean_squared_error(trainY[0], trainPredict[:,0]))\n",
    "print('Train Score: %.2f RMSE' % (trainScore))\n",
    "testScore = math.sqrt(mean_squared_error(testY[0], testPredict[:,0]))\n",
    "print('Test Score: %.2f RMSE' % (testScore))"
   ]
  },
  {
   "cell_type": "code",
   "execution_count": 12,
   "id": "equivalent-medline",
   "metadata": {},
   "outputs": [
    {
     "data": {
      "image/png": "[encoded data removed]",
      "text/plain": [
       "<Figure size 432x288 with 1 Axes>"
      ]
     },
     "metadata": {
      "needs_background": "light"
     },
     "output_type": "display_data"
    }
   ],
   "source": [
    "trainPredictPlot = numpy.empty_like(dataset)\n",
    "trainPredictPlot[:, :] = numpy.nan\n",
    "trainPredictPlot[look_back:len(trainPredict)+look_back, :] = trainPredict\n",
    "testPredictPlot = numpy.empty_like(dataset)\n",
    "testPredictPlot[:, :] = numpy.nan\n",
    "testPredictPlot[len(trainPredict)+(look_back*2)+1:len(dataset)-1, :] = testPredict\n",
    "plt.plot(scaler.inverse_transform(dataset))\n",
    "plt.plot(trainPredictPlot)\n",
    "plt.plot(testPredictPlot)\n",
    "plt.show()\n"
   ]
  },
  {
   "cell_type": "code",
   "execution_count": null,
   "id": "extreme-teacher",
   "metadata": {},
   "outputs": [],
   "source": []
  },
  {
   "cell_type": "code",
   "execution_count": null,
   "id": "thrown-blink",
   "metadata": {},
   "outputs": [],
   "source": []
  }
 ],
 "metadata": {
  "kernelspec": {
   "display_name": "Python 3",
   "language": "python",
   "name": "python3"
  },
  "language_info": {
   "codemirror_mode": {
    "name": "ipython",
    "version": 3
   },
   "file_extension": ".py",
   "mimetype": "text/x-python",
   "name": "python",
   "nbconvert_exporter": "python",
   "pygments_lexer": "ipython3",
   "version": "3.8.6"
  }
 },
 "nbformat": 4,
 "nbformat_minor": 5
}
