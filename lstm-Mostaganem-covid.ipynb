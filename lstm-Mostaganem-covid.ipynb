{
 "cells": [
  {
   "cell_type": "code",
   "execution_count": null,
   "id": "coastal-capture",
   "metadata": {},
   "outputs": [],
   "source": []
  },
  {
   "cell_type": "code",
   "execution_count": null,
   "id": "adequate-transparency",
   "metadata": {},
   "outputs": [],
   "source": []
  },
  {
   "cell_type": "code",
   "execution_count": null,
   "id": "diverse-broadcast",
   "metadata": {},
   "outputs": [],
   "source": []
  },
  {
   "cell_type": "code",
   "execution_count": 46,
   "id": "organic-wright",
   "metadata": {},
   "outputs": [
    {
     "data": {
      "image/png": "[encoded data removed]",
      "text/plain": [
       "<Figure size 432x288 with 1 Axes>"
      ]
     },
     "metadata": {
      "needs_background": "light"
     },
     "output_type": "display_data"
    }
   ],
   "source": [
    "import pandas\n",
    "import matplotlib.pyplot as plt\n",
    "dataset = pandas.read_csv('Covid19Data/Mostaganem.csv', usecols=[1], engine='python')\n",
    "plt.plot(dataset)\n",
    "plt.show()"
   ]
  },
  {
   "cell_type": "code",
   "execution_count": 47,
   "id": "juvenile-director",
   "metadata": {},
   "outputs": [],
   "source": [
    "import numpy\n",
    "import matplotlib.pyplot as plt\n",
    "import pandas\n",
    "import math\n",
    "from keras.models import Sequential\n",
    "from keras.layers import Dense\n",
    "from keras.layers import LSTM\n",
    "from sklearn.preprocessing import MinMaxScaler\n",
    "from sklearn.metrics import mean_squared_error"
   ]
  },
  {
   "cell_type": "code",
   "execution_count": 48,
   "id": "instrumental-aquarium",
   "metadata": {},
   "outputs": [],
   "source": [
    "dataframe = pandas.read_csv('Covid19Data/Mostaganem.csv', usecols=[1], engine='python')\n",
    "dataset = dataframe.values\n",
    "dataset = dataset.astype('float32')"
   ]
  },
  {
   "cell_type": "code",
   "execution_count": 49,
   "id": "round-bibliography",
   "metadata": {},
   "outputs": [],
   "source": [
    "scaler = MinMaxScaler(feature_range=(0, 1))\n",
    "dataset = scaler.fit_transform(dataset)"
   ]
  },
  {
   "cell_type": "code",
   "execution_count": 50,
   "id": "skilled-mitchell",
   "metadata": {},
   "outputs": [
    {
     "name": "stdout",
     "output_type": "stream",
     "text": [
      "181 90\n"
     ]
    }
   ],
   "source": [
    "train_size = int(len(dataset) * 0.67)\n",
    "test_size = len(dataset) - train_size\n",
    "train, test = dataset[0:train_size,:], dataset[train_size:len(dataset),:]\n",
    "print(len(train), len(test))"
   ]
  },
  {
   "cell_type": "code",
   "execution_count": 51,
   "id": "reverse-african",
   "metadata": {},
   "outputs": [],
   "source": [
    "def create_dataset(dataset, look_back=1):\n",
    "    dataX, dataY = [], []\n",
    "    for i in range(len(dataset)-look_back-1):\n",
    "        a = dataset[i:(i+look_back), 0]\n",
    "        dataX.append(a)\n",
    "        dataY.append(dataset[i + look_back, 0])\n",
    "    return numpy.array(dataX), numpy.array(dataY)"
   ]
  },
  {
   "cell_type": "code",
   "execution_count": 52,
   "id": "sixth-stanford",
   "metadata": {},
   "outputs": [],
   "source": [
    "look_back = 1\n",
    "trainX, trainY = create_dataset(train, look_back)\n",
    "testX, testY = create_dataset(test, look_back)"
   ]
  },
  {
   "cell_type": "code",
   "execution_count": 53,
   "id": "electoral-council",
   "metadata": {},
   "outputs": [],
   "source": [
    "trainX = numpy.reshape(trainX, (trainX.shape[0], 1, trainX.shape[1]))\n",
    "testX = numpy.reshape(testX, (testX.shape[0], 1, testX.shape[1]))\n"
   ]
  },
  {
   "cell_type": "code",
   "execution_count": 54,
   "id": "minute-sudan",
   "metadata": {
    "scrolled": true
   },
   "outputs": [
    {
     "name": "stdout",
     "output_type": "stream",
     "text": [
      "Epoch 1/100\n",
      "179/179 - 1s - loss: 0.3510\n",
      "Epoch 2/100\n",
      "179/179 - 0s - loss: 0.2061\n",
      "Epoch 3/100\n",
      "179/179 - 0s - loss: 0.1357\n",
      "Epoch 4/100\n",
      "179/179 - 0s - loss: 0.0995\n",
      "Epoch 5/100\n",
      "179/179 - 0s - loss: 0.0762\n",
      "Epoch 6/100\n",
      "179/179 - 0s - loss: 0.0561\n",
      "Epoch 7/100\n",
      "179/179 - 0s - loss: 0.0380\n",
      "Epoch 8/100\n",
      "179/179 - 0s - loss: 0.0229\n",
      "Epoch 9/100\n",
      "179/179 - 0s - loss: 0.0120\n",
      "Epoch 10/100\n",
      "179/179 - 0s - loss: 0.0053\n",
      "Epoch 11/100\n",
      "179/179 - 0s - loss: 0.0021\n",
      "Epoch 12/100\n",
      "179/179 - 0s - loss: 8.1747e-04\n",
      "Epoch 13/100\n",
      "179/179 - 0s - loss: 4.0955e-04\n",
      "Epoch 14/100\n",
      "179/179 - 0s - loss: 3.1121e-04\n",
      "Epoch 15/100\n",
      "179/179 - 0s - loss: 2.8162e-04\n",
      "Epoch 16/100\n",
      "179/179 - 0s - loss: 2.7472e-04\n",
      "Epoch 17/100\n",
      "179/179 - 0s - loss: 2.6468e-04\n",
      "Epoch 18/100\n",
      "179/179 - 0s - loss: 2.6004e-04\n",
      "Epoch 19/100\n",
      "179/179 - 0s - loss: 2.5889e-04\n",
      "Epoch 20/100\n",
      "179/179 - 0s - loss: 2.5418e-04\n",
      "Epoch 21/100\n",
      "179/179 - 0s - loss: 2.4995e-04\n",
      "Epoch 22/100\n",
      "179/179 - 0s - loss: 2.4396e-04\n",
      "Epoch 23/100\n",
      "179/179 - 0s - loss: 2.3932e-04\n",
      "Epoch 24/100\n",
      "179/179 - 0s - loss: 2.4167e-04\n",
      "Epoch 25/100\n",
      "179/179 - 0s - loss: 2.3149e-04\n",
      "Epoch 26/100\n",
      "179/179 - 0s - loss: 2.3009e-04\n",
      "Epoch 27/100\n",
      "179/179 - 0s - loss: 2.3305e-04\n",
      "Epoch 28/100\n",
      "179/179 - 0s - loss: 2.2584e-04\n",
      "Epoch 29/100\n",
      "179/179 - 0s - loss: 2.2438e-04\n",
      "Epoch 30/100\n",
      "179/179 - 0s - loss: 2.1616e-04\n",
      "Epoch 31/100\n",
      "179/179 - 0s - loss: 2.2300e-04\n",
      "Epoch 32/100\n",
      "179/179 - 0s - loss: 2.2676e-04\n",
      "Epoch 33/100\n",
      "179/179 - 0s - loss: 2.2171e-04\n",
      "Epoch 34/100\n",
      "179/179 - 0s - loss: 2.0243e-04\n",
      "Epoch 35/100\n",
      "179/179 - 0s - loss: 2.1192e-04\n",
      "Epoch 36/100\n",
      "179/179 - 0s - loss: 2.0641e-04\n",
      "Epoch 37/100\n",
      "179/179 - 0s - loss: 2.0388e-04\n",
      "Epoch 38/100\n",
      "179/179 - 0s - loss: 2.0867e-04\n",
      "Epoch 39/100\n",
      "179/179 - 0s - loss: 2.0494e-04\n",
      "Epoch 40/100\n",
      "179/179 - 0s - loss: 1.9051e-04\n",
      "Epoch 41/100\n",
      "179/179 - 0s - loss: 1.9370e-04\n",
      "Epoch 42/100\n",
      "179/179 - 0s - loss: 1.9706e-04\n",
      "Epoch 43/100\n",
      "179/179 - 0s - loss: 1.8488e-04\n",
      "Epoch 44/100\n",
      "179/179 - 0s - loss: 1.8444e-04\n",
      "Epoch 45/100\n",
      "179/179 - 0s - loss: 1.8376e-04\n",
      "Epoch 46/100\n",
      "179/179 - 0s - loss: 1.9640e-04\n",
      "Epoch 47/100\n",
      "179/179 - 0s - loss: 1.8786e-04\n",
      "Epoch 48/100\n",
      "179/179 - 0s - loss: 1.8255e-04\n",
      "Epoch 49/100\n",
      "179/179 - 0s - loss: 1.6972e-04\n",
      "Epoch 50/100\n",
      "179/179 - 0s - loss: 1.7305e-04\n",
      "Epoch 51/100\n",
      "179/179 - 0s - loss: 1.6513e-04\n",
      "Epoch 52/100\n",
      "179/179 - 0s - loss: 1.7132e-04\n",
      "Epoch 53/100\n",
      "179/179 - 0s - loss: 1.8969e-04\n",
      "Epoch 54/100\n",
      "179/179 - 0s - loss: 1.7528e-04\n",
      "Epoch 55/100\n",
      "179/179 - 0s - loss: 1.5594e-04\n",
      "Epoch 56/100\n",
      "179/179 - 0s - loss: 1.5503e-04\n",
      "Epoch 57/100\n",
      "179/179 - 0s - loss: 1.5970e-04\n",
      "Epoch 58/100\n",
      "179/179 - 1s - loss: 1.7600e-04\n",
      "Epoch 59/100\n",
      "179/179 - 0s - loss: 1.6319e-04\n",
      "Epoch 60/100\n",
      "179/179 - 0s - loss: 1.6565e-04\n",
      "Epoch 61/100\n",
      "179/179 - 0s - loss: 1.5251e-04\n",
      "Epoch 62/100\n",
      "179/179 - 0s - loss: 1.5961e-04\n",
      "Epoch 63/100\n",
      "179/179 - 0s - loss: 1.4177e-04\n",
      "Epoch 64/100\n",
      "179/179 - 0s - loss: 1.4503e-04\n",
      "Epoch 65/100\n",
      "179/179 - 0s - loss: 1.4485e-04\n",
      "Epoch 66/100\n",
      "179/179 - 0s - loss: 1.4265e-04\n",
      "Epoch 67/100\n",
      "179/179 - 0s - loss: 1.5480e-04\n",
      "Epoch 68/100\n",
      "179/179 - 0s - loss: 1.3818e-04\n",
      "Epoch 69/100\n",
      "179/179 - 0s - loss: 1.4175e-04\n",
      "Epoch 70/100\n",
      "179/179 - 0s - loss: 1.3635e-04\n",
      "Epoch 71/100\n",
      "179/179 - 0s - loss: 1.2925e-04\n",
      "Epoch 72/100\n",
      "179/179 - 0s - loss: 1.3012e-04\n",
      "Epoch 73/100\n",
      "179/179 - 0s - loss: 1.2979e-04\n",
      "Epoch 74/100\n",
      "179/179 - 0s - loss: 1.2751e-04\n",
      "Epoch 75/100\n",
      "179/179 - 0s - loss: 1.2480e-04\n",
      "Epoch 76/100\n",
      "179/179 - 0s - loss: 1.2665e-04\n",
      "Epoch 77/100\n",
      "179/179 - 0s - loss: 1.3277e-04\n",
      "Epoch 78/100\n",
      "179/179 - 0s - loss: 1.3105e-04\n",
      "Epoch 79/100\n",
      "179/179 - 0s - loss: 1.2467e-04\n",
      "Epoch 80/100\n",
      "179/179 - 0s - loss: 1.2123e-04\n",
      "Epoch 81/100\n",
      "179/179 - 0s - loss: 1.1158e-04\n",
      "Epoch 82/100\n",
      "179/179 - 0s - loss: 1.2734e-04\n",
      "Epoch 83/100\n",
      "179/179 - 0s - loss: 1.1797e-04\n",
      "Epoch 84/100\n",
      "179/179 - 0s - loss: 1.1656e-04\n",
      "Epoch 85/100\n",
      "179/179 - 0s - loss: 1.1403e-04\n",
      "Epoch 86/100\n",
      "179/179 - 0s - loss: 1.1629e-04\n",
      "Epoch 87/100\n",
      "179/179 - 0s - loss: 1.1451e-04\n",
      "Epoch 88/100\n",
      "179/179 - 0s - loss: 1.1919e-04\n",
      "Epoch 89/100\n",
      "179/179 - 0s - loss: 1.2180e-04\n",
      "Epoch 90/100\n",
      "179/179 - 0s - loss: 1.1782e-04\n",
      "Epoch 91/100\n",
      "179/179 - 0s - loss: 1.0978e-04\n",
      "Epoch 92/100\n",
      "179/179 - 0s - loss: 1.0822e-04\n",
      "Epoch 93/100\n",
      "179/179 - 0s - loss: 1.1146e-04\n",
      "Epoch 94/100\n",
      "179/179 - 0s - loss: 1.0884e-04\n",
      "Epoch 95/100\n",
      "179/179 - 0s - loss: 9.8614e-05\n",
      "Epoch 96/100\n",
      "179/179 - 0s - loss: 1.0867e-04\n",
      "Epoch 97/100\n",
      "179/179 - 0s - loss: 1.0181e-04\n",
      "Epoch 98/100\n",
      "179/179 - 0s - loss: 1.0083e-04\n",
      "Epoch 99/100\n",
      "179/179 - 0s - loss: 1.0684e-04\n",
      "Epoch 100/100\n",
      "179/179 - 0s - loss: 9.9556e-05\n"
     ]
    },
    {
     "data": {
      "text/plain": [
       "<tensorflow.python.keras.callbacks.History at 0x7f0522ea43a0>"
      ]
     },
     "execution_count": 54,
     "metadata": {},
     "output_type": "execute_result"
    }
   ],
   "source": [
    "\n",
    "model = Sequential()\n",
    "model.add(LSTM(4, input_shape=(1, look_back)))\n",
    "model.add(Dense(1))\n",
    "model.compile(loss='mean_squared_error', optimizer='adam')\n",
    "model.fit(trainX, trainY, epochs=100, batch_size=1, verbose=2)"
   ]
  },
  {
   "cell_type": "code",
   "execution_count": 55,
   "id": "stuck-sharp",
   "metadata": {},
   "outputs": [
    {
     "name": "stdout",
     "output_type": "stream",
     "text": [
      "Train Score: 6.97 RMSE\n",
      "Test Score: 6.22 RMSE\n"
     ]
    }
   ],
   "source": [
    "trainPredict = model.predict(trainX)\n",
    "testPredict = model.predict(testX)\n",
    "trainPredict = scaler.inverse_transform(trainPredict)\n",
    "trainY = scaler.inverse_transform([trainY])\n",
    "testPredict = scaler.inverse_transform(testPredict)\n",
    "testY = scaler.inverse_transform([testY])\n",
    "trainScore = math.sqrt(mean_squared_error(trainY[0], trainPredict[:,0]))\n",
    "print('Train Score: %.2f RMSE' % (trainScore))\n",
    "testScore = math.sqrt(mean_squared_error(testY[0], testPredict[:,0]))\n",
    "print('Test Score: %.2f RMSE' % (testScore))"
   ]
  },
  {
   "cell_type": "code",
   "execution_count": 56,
   "id": "equivalent-medline",
   "metadata": {},
   "outputs": [
    {
     "data": {
      "image/png": "[encoded data removed]",
      "text/plain": [
       "<Figure size 432x288 with 1 Axes>"
      ]
     },
     "metadata": {
      "needs_background": "light"
     },
     "output_type": "display_data"
    }
   ],
   "source": [
    "trainPredictPlot = numpy.empty_like(dataset)\n",
    "trainPredictPlot[:, :] = numpy.nan\n",
    "trainPredictPlot[look_back:len(trainPredict)+look_back, :] = trainPredict\n",
    "testPredictPlot = numpy.empty_like(dataset)\n",
    "testPredictPlot[:, :] = numpy.nan\n",
    "testPredictPlot[len(trainPredict)+(look_back*2)+1:len(dataset)-1, :] = testPredict\n",
    "plt.plot(scaler.inverse_transform(dataset))\n",
    "plt.plot(trainPredictPlot)\n",
    "plt.plot(testPredictPlot)\n",
    "plt.show()\n"
   ]
  },
  {
   "cell_type": "code",
   "execution_count": null,
   "id": "extreme-teacher",
   "metadata": {},
   "outputs": [],
   "source": []
  },
  {
   "cell_type": "code",
   "execution_count": null,
   "id": "thrown-blink",
   "metadata": {},
   "outputs": [],
   "source": []
  }
 ],
 "metadata": {
  "kernelspec": {
   "display_name": "Python 3",
   "language": "python",
   "name": "python3"
  },
  "language_info": {
   "codemirror_mode": {
    "name": "ipython",
    "version": 3
   },
   "file_extension": ".py",
   "mimetype": "text/x-python",
   "name": "python",
   "nbconvert_exporter": "python",
   "pygments_lexer": "ipython3",
   "version": "3.8.6"
  }
 },
 "nbformat": 4,
 "nbformat_minor": 5
}
